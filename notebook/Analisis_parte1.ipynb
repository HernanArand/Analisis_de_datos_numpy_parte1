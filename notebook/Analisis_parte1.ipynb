{
 "cells": [
  {
   "cell_type": "code",
   "execution_count": 1,
   "metadata": {},
   "outputs": [
    {
     "name": "stdout",
     "output_type": "stream",
     "text": [
      "('Transaction_ID', 'Date', 'Customer_ID', 'Gender', 'Age', 'Product_Category', 'Quantity', 'Price_per_Unit', 'Total_Amount')\n",
      "[( 1, '2023-11-24', 'CUST001', 'Male', 34, 'Beauty', 3,  50,  150)\n",
      " ( 2, '2023-02-27', 'CUST002', 'Female', 26, 'Clothing', 2, 500, 1000)\n",
      " ( 3, '2023-01-13', 'CUST003', 'Male', 50, 'Electronics', 1,  30,   30)\n",
      " ( 4, '2023-05-21', 'CUST004', 'Male', 37, 'Clothing', 1, 500,  500)\n",
      " ( 5, '2023-05-06', 'CUST005', 'Male', 30, 'Beauty', 2,  50,  100)\n",
      " ( 6, '2023-04-25', 'CUST006', 'Female', 45, 'Beauty', 1,  30,   30)\n",
      " ( 7, '2023-03-13', 'CUST007', 'Male', 46, 'Clothing', 2,  25,   50)\n",
      " ( 8, '2023-02-22', 'CUST008', 'Male', 30, 'Electronics', 4,  25,  100)\n",
      " ( 9, '2023-12-13', 'CUST009', 'Male', 63, 'Electronics', 2, 300,  600)\n",
      " (10, '2023-10-07', 'CUST010', 'Female', 52, 'Clothing', 4,  50,  200)]\n"
     ]
    }
   ],
   "source": [
    "import numpy as np\n",
    "\n",
    "#se cargan los datos para ser analizado\n",
    "Archivo = '../data/retail_sales.csv'\n",
    "datos = np.genfromtxt(Archivo, delimiter=',', dtype=None, names=True, encoding='utf-8')\n",
    "\n",
    "print(datos.dtype.names)\n",
    "print(datos[:10])\n"
   ]
  },
  {
   "cell_type": "code",
   "execution_count": 2,
   "metadata": {},
   "outputs": [
    {
     "name": "stdout",
     "output_type": "stream",
     "text": [
      "Ventas totales por categoría: {'Beauty': 143515, 'Clothing': 155580, 'Electronics': 156905}\n"
     ]
    }
   ],
   "source": [
    "# se extrae las categorías únicas\n",
    "categorias = np.unique(datos['Product_Category'])\n",
    "\n",
    "# se Calcula las ventas totales por categoría\n",
    "ventas_categoria = {categoria: np.sum(datos['Total_Amount'][datos['Product_Category'] == categoria]) for categoria in categorias}\n",
    "print(\"Ventas totales por categoría:\", ventas_categoria)\n"
   ]
  },
  {
   "cell_type": "code",
   "execution_count": 3,
   "metadata": {},
   "outputs": [
    {
     "name": "stdout",
     "output_type": "stream",
     "text": [
      "El Promedio de ventas diarias por categoría: {'Beauty': 467.4755700325733, 'Clothing': 443.2478632478632, 'Electronics': 458.7865497076023}\n"
     ]
    }
   ],
   "source": [
    "# se calcula el promedio de ventas por día para cada categoría\n",
    "promedio_ventas_categoria = {categoria: np.mean(datos['Total_Amount'][datos['Product_Category'] == categoria]) for categoria in categorias}\n",
    "print(\"El Promedio de ventas diarias por categoría:\", promedio_ventas_categoria)\n"
   ]
  },
  {
   "cell_type": "code",
   "execution_count": 4,
   "metadata": {},
   "outputs": [
    {
     "name": "stdout",
     "output_type": "stream",
     "text": [
      "Categoría con mayores ventas: Electronics\n",
      "Categoría con menores ventas: Beauty\n"
     ]
    }
   ],
   "source": [
    "# Mayores y menores ventas\n",
    "categoria_mayor_venta = max(ventas_categoria, key=ventas_categoria.get)\n",
    "categoria_menor_venta = min(ventas_categoria, key=ventas_categoria.get)\n",
    "\n",
    "print(\"Categoría con mayores ventas:\", categoria_mayor_venta)\n",
    "print(\"Categoría con menores ventas:\", categoria_menor_venta)\n"
   ]
  },
  {
   "cell_type": "code",
   "execution_count": 7,
   "metadata": {},
   "outputs": [
    {
     "name": "stdout",
     "output_type": "stream",
     "text": [
      "Ventas para la categoría específica: [( 3, '2023-01-13', 'CUST003', 'Male', 50, 'Electronics', 1,  30,   30)\n",
      " ( 8, '2023-02-22', 'CUST008', 'Male', 30, 'Electronics', 4,  25,  100)\n",
      " ( 9, '2023-12-13', 'CUST009', 'Male', 63, 'Electronics', 2, 300,  600)\n",
      " (13, '2023-08-05', 'CUST013', 'Male', 22, 'Electronics', 3, 500, 1500)\n",
      " (15, '2023-01-16', 'CUST015', 'Female', 42, 'Electronics', 4, 500, 2000)]\n"
     ]
    }
   ],
   "source": [
    "# Filtrar los datos para mostrar solo las ventas de la categoria electronica\n",
    "categoria_especifica = 'Electronics' \n",
    "ventas_categoria_especifica = datos[datos['Product_Category'] == categoria_especifica]\n",
    "\n",
    "print(\"Ventas para la categoría específica:\", ventas_categoria_especifica[:5])\n"
   ]
  },
  {
   "cell_type": "code",
   "execution_count": 6,
   "metadata": {},
   "outputs": [
    {
     "name": "stdout",
     "output_type": "stream",
     "text": [
      "Ventas ajustadas (suma) [ 250 1100  130  600  200]\n",
      "Ventas con descuento (resta) [100 950 -20 450  50]\n",
      "Ventas con aumento (multiplicación) [ 165. 1100.   33.  550.  110.]\n",
      "Promedio diario (división) [ 5.         33.33333333  1.         16.66666667  3.33333333]\n"
     ]
    }
   ],
   "source": [
    "# Suma: Añade un aumento al valor de ventas\n",
    "ajuste_ventas = datos['Total_Amount'] + 100\n",
    "print(\"Ventas ajustadas (suma)\", ajuste_ventas[:5])\n",
    "\n",
    "# Resta: Restar un monto de descuento fijo\n",
    "descuento_ventas = datos['Total_Amount'] - 50\n",
    "print(\"Ventas con descuento (resta)\", descuento_ventas[:5])\n",
    "\n",
    "# Multiplicación: Aplica un aumento porcentual, por ejemplo, un aumento del 10%\n",
    "aumento_ventas = datos['Total_Amount'] * 1.10\n",
    "print(\"Ventas con aumento (multiplicación)\", aumento_ventas[:5])\n",
    "\n",
    "# División: Calcula el promedio diario si cada entrada representa la venta total del día\n",
    "promedio_diario = datos['Total_Amount'] / 30  \n",
    "print(\"Promedio diario (división)\", promedio_diario[:5])"
   ]
  }
 ],
 "metadata": {
  "kernelspec": {
   "display_name": "base",
   "language": "python",
   "name": "python3"
  },
  "language_info": {
   "codemirror_mode": {
    "name": "ipython",
    "version": 3
   },
   "file_extension": ".py",
   "mimetype": "text/x-python",
   "name": "python",
   "nbconvert_exporter": "python",
   "pygments_lexer": "ipython3",
   "version": "3.12.4"
  }
 },
 "nbformat": 4,
 "nbformat_minor": 2
}
